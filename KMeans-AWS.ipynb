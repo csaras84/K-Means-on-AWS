{
 "cells": [
  {
   "cell_type": "code",
   "execution_count": 1,
   "id": "ab3910f5",
   "metadata": {},
   "outputs": [],
   "source": [
    "import pandas as pd\n",
    "import numpy as np\n",
    "from datetime import datetime\n",
    "\n",
    "import boto3\n",
    "from sagemaker import get_execution_role\n",
    "import sagemaker.amazon.common as smac"
   ]
  },
  {
   "cell_type": "markdown",
   "id": "224508da",
   "metadata": {},
   "source": [
    "Get data from S3"
   ]
  },
  {
   "cell_type": "code",
   "execution_count": 2,
   "id": "eb510e71",
   "metadata": {},
   "outputs": [],
   "source": [
    "role = get_execution_role()\n",
    "bucket = 'ml-labs-saras'\n",
    "prefix = 'UFO-dataset'\n",
    "data_key = 'UFO-fullset.csv'\n",
    "data_location = 's3://{}/{}/{}'.format(bucket, prefix, data_key)\n",
    "\n",
    "df =pd.read_csv(data_location, low_memory=False)\n"
   ]
  },
  {
   "cell_type": "code",
   "execution_count": 3,
   "id": "8e10a2e0",
   "metadata": {},
   "outputs": [
    {
     "data": {
      "text/html": [
       "<div>\n",
       "<style scoped>\n",
       "    .dataframe tbody tr th:only-of-type {\n",
       "        vertical-align: middle;\n",
       "    }\n",
       "\n",
       "    .dataframe tbody tr th {\n",
       "        vertical-align: top;\n",
       "    }\n",
       "\n",
       "    .dataframe thead th {\n",
       "        text-align: right;\n",
       "    }\n",
       "</style>\n",
       "<table border=\"1\" class=\"dataframe\">\n",
       "  <thead>\n",
       "    <tr style=\"text-align: right;\">\n",
       "      <th></th>\n",
       "      <th>reportedTimestamp</th>\n",
       "      <th>eventDate</th>\n",
       "      <th>eventTime</th>\n",
       "      <th>shape</th>\n",
       "      <th>duration</th>\n",
       "      <th>witnesses</th>\n",
       "      <th>weather</th>\n",
       "      <th>firstName</th>\n",
       "      <th>lastName</th>\n",
       "      <th>latitude</th>\n",
       "      <th>longitude</th>\n",
       "      <th>sighting</th>\n",
       "      <th>physicalEvidence</th>\n",
       "      <th>contact</th>\n",
       "      <th>researchOutcome</th>\n",
       "    </tr>\n",
       "  </thead>\n",
       "  <tbody>\n",
       "    <tr>\n",
       "      <th>0</th>\n",
       "      <td>1977-04-04T04:02:23.340Z</td>\n",
       "      <td>1977-03-31</td>\n",
       "      <td>23:46</td>\n",
       "      <td>circle</td>\n",
       "      <td>4</td>\n",
       "      <td>1</td>\n",
       "      <td>rain</td>\n",
       "      <td>Ila</td>\n",
       "      <td>Bashirian</td>\n",
       "      <td>47.329444</td>\n",
       "      <td>-122.578889</td>\n",
       "      <td>Y</td>\n",
       "      <td>N</td>\n",
       "      <td>N</td>\n",
       "      <td>explained</td>\n",
       "    </tr>\n",
       "    <tr>\n",
       "      <th>1</th>\n",
       "      <td>1982-11-22T02:06:32.019Z</td>\n",
       "      <td>1982-11-15</td>\n",
       "      <td>22:04</td>\n",
       "      <td>disk</td>\n",
       "      <td>4</td>\n",
       "      <td>1</td>\n",
       "      <td>partly cloudy</td>\n",
       "      <td>Eriberto</td>\n",
       "      <td>Runolfsson</td>\n",
       "      <td>52.664913</td>\n",
       "      <td>-1.034894</td>\n",
       "      <td>Y</td>\n",
       "      <td>Y</td>\n",
       "      <td>N</td>\n",
       "      <td>explained</td>\n",
       "    </tr>\n",
       "    <tr>\n",
       "      <th>2</th>\n",
       "      <td>1992-12-07T19:06:52.482Z</td>\n",
       "      <td>1992-12-07</td>\n",
       "      <td>19:01</td>\n",
       "      <td>circle</td>\n",
       "      <td>49</td>\n",
       "      <td>1</td>\n",
       "      <td>clear</td>\n",
       "      <td>Miller</td>\n",
       "      <td>Watsica</td>\n",
       "      <td>38.951667</td>\n",
       "      <td>-92.333889</td>\n",
       "      <td>Y</td>\n",
       "      <td>N</td>\n",
       "      <td>N</td>\n",
       "      <td>explained</td>\n",
       "    </tr>\n",
       "    <tr>\n",
       "      <th>3</th>\n",
       "      <td>2011-02-24T21:06:34.898Z</td>\n",
       "      <td>2011-02-21</td>\n",
       "      <td>20:56</td>\n",
       "      <td>disk</td>\n",
       "      <td>13</td>\n",
       "      <td>1</td>\n",
       "      <td>partly cloudy</td>\n",
       "      <td>Clifton</td>\n",
       "      <td>Bechtelar</td>\n",
       "      <td>41.496944</td>\n",
       "      <td>-71.367778</td>\n",
       "      <td>Y</td>\n",
       "      <td>N</td>\n",
       "      <td>N</td>\n",
       "      <td>explained</td>\n",
       "    </tr>\n",
       "    <tr>\n",
       "      <th>4</th>\n",
       "      <td>1991-03-09T16:18:45.501Z</td>\n",
       "      <td>1991-03-09</td>\n",
       "      <td>11:42</td>\n",
       "      <td>circle</td>\n",
       "      <td>17</td>\n",
       "      <td>1</td>\n",
       "      <td>mostly cloudy</td>\n",
       "      <td>Jayda</td>\n",
       "      <td>Ebert</td>\n",
       "      <td>47.606389</td>\n",
       "      <td>-122.330833</td>\n",
       "      <td>Y</td>\n",
       "      <td>N</td>\n",
       "      <td>N</td>\n",
       "      <td>explained</td>\n",
       "    </tr>\n",
       "  </tbody>\n",
       "</table>\n",
       "</div>"
      ],
      "text/plain": [
       "          reportedTimestamp   eventDate eventTime   shape  duration  \\\n",
       "0  1977-04-04T04:02:23.340Z  1977-03-31     23:46  circle         4   \n",
       "1  1982-11-22T02:06:32.019Z  1982-11-15     22:04    disk         4   \n",
       "2  1992-12-07T19:06:52.482Z  1992-12-07     19:01  circle        49   \n",
       "3  2011-02-24T21:06:34.898Z  2011-02-21     20:56    disk        13   \n",
       "4  1991-03-09T16:18:45.501Z  1991-03-09     11:42  circle        17   \n",
       "\n",
       "   witnesses        weather firstName    lastName   latitude   longitude  \\\n",
       "0          1           rain       Ila   Bashirian  47.329444 -122.578889   \n",
       "1          1  partly cloudy  Eriberto  Runolfsson  52.664913   -1.034894   \n",
       "2          1          clear    Miller     Watsica  38.951667  -92.333889   \n",
       "3          1  partly cloudy   Clifton   Bechtelar  41.496944  -71.367778   \n",
       "4          1  mostly cloudy     Jayda       Ebert  47.606389 -122.330833   \n",
       "\n",
       "  sighting physicalEvidence contact researchOutcome  \n",
       "0        Y                N       N       explained  \n",
       "1        Y                Y       N       explained  \n",
       "2        Y                N       N       explained  \n",
       "3        Y                N       N       explained  \n",
       "4        Y                N       N       explained  "
      ]
     },
     "execution_count": 3,
     "metadata": {},
     "output_type": "execute_result"
    }
   ],
   "source": [
    "df.head()"
   ]
  },
  {
   "cell_type": "code",
   "execution_count": 4,
   "id": "682db3de",
   "metadata": {},
   "outputs": [
    {
     "data": {
      "text/plain": [
       "(18000, 15)"
      ]
     },
     "execution_count": 4,
     "metadata": {},
     "output_type": "execute_result"
    }
   ],
   "source": [
    "df.shape"
   ]
  },
  {
   "cell_type": "markdown",
   "id": "1ca150fd",
   "metadata": {},
   "source": [
    "Cleaning, transforming and preparing data required to be fed to the algorithm"
   ]
  },
  {
   "cell_type": "markdown",
   "id": "ff77bea1",
   "metadata": {},
   "source": [
    "Create another dataframe with just latitude and longiture"
   ]
  },
  {
   "cell_type": "code",
   "execution_count": 5,
   "id": "2910d0aa",
   "metadata": {},
   "outputs": [],
   "source": [
    "df_geo = df[['latitude', 'longitude']]"
   ]
  },
  {
   "cell_type": "code",
   "execution_count": 6,
   "id": "aa8ae5a6",
   "metadata": {},
   "outputs": [
    {
     "data": {
      "text/html": [
       "<div>\n",
       "<style scoped>\n",
       "    .dataframe tbody tr th:only-of-type {\n",
       "        vertical-align: middle;\n",
       "    }\n",
       "\n",
       "    .dataframe tbody tr th {\n",
       "        vertical-align: top;\n",
       "    }\n",
       "\n",
       "    .dataframe thead th {\n",
       "        text-align: right;\n",
       "    }\n",
       "</style>\n",
       "<table border=\"1\" class=\"dataframe\">\n",
       "  <thead>\n",
       "    <tr style=\"text-align: right;\">\n",
       "      <th></th>\n",
       "      <th>latitude</th>\n",
       "      <th>longitude</th>\n",
       "    </tr>\n",
       "  </thead>\n",
       "  <tbody>\n",
       "    <tr>\n",
       "      <th>0</th>\n",
       "      <td>47.329444</td>\n",
       "      <td>-122.578889</td>\n",
       "    </tr>\n",
       "    <tr>\n",
       "      <th>1</th>\n",
       "      <td>52.664913</td>\n",
       "      <td>-1.034894</td>\n",
       "    </tr>\n",
       "    <tr>\n",
       "      <th>2</th>\n",
       "      <td>38.951667</td>\n",
       "      <td>-92.333889</td>\n",
       "    </tr>\n",
       "    <tr>\n",
       "      <th>3</th>\n",
       "      <td>41.496944</td>\n",
       "      <td>-71.367778</td>\n",
       "    </tr>\n",
       "    <tr>\n",
       "      <th>4</th>\n",
       "      <td>47.606389</td>\n",
       "      <td>-122.330833</td>\n",
       "    </tr>\n",
       "  </tbody>\n",
       "</table>\n",
       "</div>"
      ],
      "text/plain": [
       "    latitude   longitude\n",
       "0  47.329444 -122.578889\n",
       "1  52.664913   -1.034894\n",
       "2  38.951667  -92.333889\n",
       "3  41.496944  -71.367778\n",
       "4  47.606389 -122.330833"
      ]
     },
     "execution_count": 6,
     "metadata": {},
     "output_type": "execute_result"
    }
   ],
   "source": [
    "df_geo.head()"
   ]
  },
  {
   "cell_type": "code",
   "execution_count": 7,
   "id": "5c1b080a",
   "metadata": {},
   "outputs": [
    {
     "name": "stdout",
     "output_type": "stream",
     "text": [
      "<class 'pandas.core.frame.DataFrame'>\n",
      "RangeIndex: 18000 entries, 0 to 17999\n",
      "Data columns (total 2 columns):\n",
      " #   Column     Non-Null Count  Dtype  \n",
      "---  ------     --------------  -----  \n",
      " 0   latitude   18000 non-null  float64\n",
      " 1   longitude  18000 non-null  float64\n",
      "dtypes: float64(2)\n",
      "memory usage: 281.4 KB\n"
     ]
    }
   ],
   "source": [
    "df_geo.info()"
   ]
  },
  {
   "cell_type": "markdown",
   "id": "018eab05",
   "metadata": {},
   "source": [
    "Check for missing values"
   ]
  },
  {
   "cell_type": "code",
   "execution_count": 8,
   "id": "37182874",
   "metadata": {},
   "outputs": [
    {
     "name": "stdout",
     "output_type": "stream",
     "text": [
      "Are there any missing value False\n"
     ]
    }
   ],
   "source": [
    "missing_values = df_geo.isnull().values.any()\n",
    "print('Are there any missing value {}'.format(missing_values))\n",
    "if missing_values:\n",
    "    df_geo[df_geo.isnull().any(axis=1)]"
   ]
  },
  {
   "cell_type": "markdown",
   "id": "558d649c",
   "metadata": {},
   "source": [
    "Transform dataframe into a numpy.ndarray - that's what K-means expects as its input - each row as a record object"
   ]
  },
  {
   "cell_type": "code",
   "execution_count": 9,
   "id": "13ee2e25",
   "metadata": {},
   "outputs": [
    {
     "data": {
      "text/plain": [
       "array([[  47.329445, -122.57889 ],\n",
       "       [  52.664913,   -1.034894],\n",
       "       [  38.951668,  -92.333885],\n",
       "       ...,\n",
       "       [  36.86639 ,  -83.888885],\n",
       "       [  35.385834,  -94.39833 ],\n",
       "       [  29.883055,  -97.94111 ]], dtype=float32)"
      ]
     },
     "execution_count": 9,
     "metadata": {},
     "output_type": "execute_result"
    }
   ],
   "source": [
    "data_train = df_geo.values.astype('float32')\n",
    "data_train"
   ]
  },
  {
   "cell_type": "markdown",
   "id": "0ca833c9",
   "metadata": {},
   "source": [
    "Create and train model"
   ]
  },
  {
   "cell_type": "code",
   "execution_count": 11,
   "id": "a13b39ad",
   "metadata": {},
   "outputs": [
    {
     "name": "stderr",
     "output_type": "stream",
     "text": [
      "train_instance_count has been renamed in sagemaker>=2.\n",
      "See: https://sagemaker.readthedocs.io/en/stable/v2.html for details.\n",
      "train_instance_type has been renamed in sagemaker>=2.\n",
      "See: https://sagemaker.readthedocs.io/en/stable/v2.html for details.\n"
     ]
    }
   ],
   "source": [
    "from sagemaker import KMeans\n",
    "\n",
    "num_clusters = 10\n",
    "output_location = 's3://' + bucket + '/model-artifacts'\n",
    "\n",
    "kmeans = KMeans(role=role,\n",
    "               train_instance_count=1,\n",
    "               train_instance_type='ml.c4.xlarge',\n",
    "               output_path=output_location,\n",
    "               k=num_clusters)"
   ]
  },
  {
   "cell_type": "code",
   "execution_count": 12,
   "id": "826a00f2",
   "metadata": {},
   "outputs": [
    {
     "name": "stdout",
     "output_type": "stream",
     "text": [
      "job name kmeans-geo-job-20211207123229\n"
     ]
    }
   ],
   "source": [
    "job_name = 'kmeans-geo-job-{}'.format(datetime.now().strftime('%Y%m%d%H%M%S'))\n",
    "print('job name {}'.format(job_name))"
   ]
  },
  {
   "cell_type": "code",
   "execution_count": 13,
   "id": "7a6c7a8c",
   "metadata": {},
   "outputs": [
    {
     "name": "stderr",
     "output_type": "stream",
     "text": [
      "Defaulting to the only supported framework/algorithm version: 1. Ignoring framework/algorithm version: 1.\n"
     ]
    },
    {
     "name": "stdout",
     "output_type": "stream",
     "text": [
      "2021-12-07 12:32:39 Starting - Starting the training job...\n",
      "2021-12-07 12:32:48 Starting - Launching requested ML instancesProfilerReport-1638880359: InProgress\n",
      "......\n",
      "2021-12-07 12:33:50 Starting - Preparing the instances for training............\n",
      "2021-12-07 12:35:51 Downloading - Downloading input data...\n",
      "2021-12-07 12:36:40 Training - Training image download completed. Training in progress..\u001b[34mDocker entrypoint called with argument(s): train\u001b[0m\n",
      "\u001b[34mRunning default environment configuration script\u001b[0m\n",
      "\u001b[34m[12/07/2021 12:36:45 INFO 140164129539904] Reading default configuration from /opt/amazon/lib/python3.7/site-packages/algorithm/resources/default-input.json: {'init_method': 'random', 'mini_batch_size': '5000', 'epochs': '1', 'extra_center_factor': 'auto', 'local_lloyd_max_iter': '300', 'local_lloyd_tol': '0.0001', 'local_lloyd_init_method': 'kmeans++', 'local_lloyd_num_trials': 'auto', 'half_life_time_size': '0', 'eval_metrics': '[\"msd\"]', 'force_dense': 'true', '_disable_wait_to_read': 'false', '_enable_profiler': 'false', '_kvstore': 'auto', '_log_level': 'info', '_num_gpus': 'auto', '_num_kv_servers': '1', '_num_slices': '1', '_tuning_objective_metric': ''}\u001b[0m\n",
      "\u001b[34m[12/07/2021 12:36:45 INFO 140164129539904] Merging with provided configuration from /opt/ml/input/config/hyperparameters.json: {'feature_dim': '2', 'k': '10', 'force_dense': 'True'}\u001b[0m\n",
      "\u001b[34m[12/07/2021 12:36:45 INFO 140164129539904] Final configuration: {'init_method': 'random', 'mini_batch_size': '5000', 'epochs': '1', 'extra_center_factor': 'auto', 'local_lloyd_max_iter': '300', 'local_lloyd_tol': '0.0001', 'local_lloyd_init_method': 'kmeans++', 'local_lloyd_num_trials': 'auto', 'half_life_time_size': '0', 'eval_metrics': '[\"msd\"]', 'force_dense': 'True', '_disable_wait_to_read': 'false', '_enable_profiler': 'false', '_kvstore': 'auto', '_log_level': 'info', '_num_gpus': 'auto', '_num_kv_servers': '1', '_num_slices': '1', '_tuning_objective_metric': '', 'feature_dim': '2', 'k': '10'}\u001b[0m\n",
      "\u001b[34m[12/07/2021 12:36:45 WARNING 140164129539904] Loggers have already been setup.\u001b[0m\n",
      "\u001b[34mProcess 1 is a worker.\u001b[0m\n",
      "\u001b[34m[12/07/2021 12:36:45 INFO 140164129539904] Using default worker.\u001b[0m\n",
      "\u001b[34m[12/07/2021 12:36:45 INFO 140164129539904] Loaded iterator creator application/x-recordio-protobuf for content type ('application/x-recordio-protobuf', '1.0')\u001b[0m\n",
      "\u001b[34m[12/07/2021 12:36:45 INFO 140164129539904] Create Store: local\u001b[0m\n",
      "\u001b[34m[12/07/2021 12:36:45 INFO 140164129539904] nvidia-smi: took 0.030 seconds to run.\u001b[0m\n",
      "\u001b[34m[12/07/2021 12:36:45 INFO 140164129539904] nvidia-smi identified 0 GPUs.\u001b[0m\n",
      "\u001b[34m[12/07/2021 12:36:45 INFO 140164129539904] Number of GPUs being used: 0\u001b[0m\n",
      "\u001b[34m[12/07/2021 12:36:45 INFO 140164129539904] Checkpoint loading and saving are disabled.\u001b[0m\n",
      "\u001b[34m[12/07/2021 12:36:45 INFO 140164129539904] Setting up with params: {'init_method': 'random', 'mini_batch_size': '5000', 'epochs': '1', 'extra_center_factor': 'auto', 'local_lloyd_max_iter': '300', 'local_lloyd_tol': '0.0001', 'local_lloyd_init_method': 'kmeans++', 'local_lloyd_num_trials': 'auto', 'half_life_time_size': '0', 'eval_metrics': '[\"msd\"]', 'force_dense': 'True', '_disable_wait_to_read': 'false', '_enable_profiler': 'false', '_kvstore': 'auto', '_log_level': 'info', '_num_gpus': 'auto', '_num_kv_servers': '1', '_num_slices': '1', '_tuning_objective_metric': '', 'feature_dim': '2', 'k': '10'}\u001b[0m\n",
      "\u001b[34m[12/07/2021 12:36:45 INFO 140164129539904] 'extra_center_factor' was set to 'auto', evaluated to 10.\u001b[0m\n",
      "\u001b[34m[12/07/2021 12:36:45 INFO 140164129539904] Number of GPUs being used: 0\u001b[0m\n",
      "\u001b[34m[12/07/2021 12:36:45 INFO 140164129539904] number of center slices 1\u001b[0m\n",
      "\u001b[34m#metrics {\"StartTime\": 1638880605.941638, \"EndTime\": 1638880605.9416704, \"Dimensions\": {\"Algorithm\": \"AWS/KMeansWebscale\", \"Host\": \"algo-1\", \"Operation\": \"training\", \"Meta\": \"init_train_data_iter\"}, \"Metrics\": {\"Total Records Seen\": {\"sum\": 5000.0, \"count\": 1, \"min\": 5000, \"max\": 5000}, \"Total Batches Seen\": {\"sum\": 1.0, \"count\": 1, \"min\": 1, \"max\": 1}, \"Max Records Seen Between Resets\": {\"sum\": 5000.0, \"count\": 1, \"min\": 5000, \"max\": 5000}, \"Max Batches Seen Between Resets\": {\"sum\": 1.0, \"count\": 1, \"min\": 1, \"max\": 1}, \"Reset Count\": {\"sum\": 0.0, \"count\": 1, \"min\": 0, \"max\": 0}, \"Number of Records Since Last Reset\": {\"sum\": 5000.0, \"count\": 1, \"min\": 5000, \"max\": 5000}, \"Number of Batches Since Last Reset\": {\"sum\": 1.0, \"count\": 1, \"min\": 1, \"max\": 1}}}\u001b[0m\n",
      "\u001b[34m[2021-12-07 12:36:45.941] [tensorio] [info] epoch_stats={\"data_pipeline\": \"/opt/ml/input/data/train\", \"epoch\": 0, \"duration\": 48, \"num_examples\": 1, \"num_bytes\": 160000}\u001b[0m\n",
      "\u001b[34m[2021-12-07 12:36:46.036] [tensorio] [info] epoch_stats={\"data_pipeline\": \"/opt/ml/input/data/train\", \"epoch\": 1, \"duration\": 94, \"num_examples\": 4, \"num_bytes\": 576000}\u001b[0m\n",
      "\u001b[34m[12/07/2021 12:36:46 INFO 140164129539904] processed a total of 18000 examples\u001b[0m\n",
      "\u001b[34m[12/07/2021 12:36:46 INFO 140164129539904] #progress_metric: host=algo-1, completed 100.0 % of epochs\u001b[0m\n",
      "\u001b[34m#metrics {\"StartTime\": 1638880605.9420295, \"EndTime\": 1638880606.0373874, \"Dimensions\": {\"Algorithm\": \"AWS/KMeansWebscale\", \"Host\": \"algo-1\", \"Operation\": \"training\", \"epoch\": 0, \"Meta\": \"training_data_iter\"}, \"Metrics\": {\"Total Records Seen\": {\"sum\": 23000.0, \"count\": 1, \"min\": 23000, \"max\": 23000}, \"Total Batches Seen\": {\"sum\": 5.0, \"count\": 1, \"min\": 5, \"max\": 5}, \"Max Records Seen Between Resets\": {\"sum\": 18000.0, \"count\": 1, \"min\": 18000, \"max\": 18000}, \"Max Batches Seen Between Resets\": {\"sum\": 4.0, \"count\": 1, \"min\": 4, \"max\": 4}, \"Reset Count\": {\"sum\": 1.0, \"count\": 1, \"min\": 1, \"max\": 1}, \"Number of Records Since Last Reset\": {\"sum\": 18000.0, \"count\": 1, \"min\": 18000, \"max\": 18000}, \"Number of Batches Since Last Reset\": {\"sum\": 4.0, \"count\": 1, \"min\": 4, \"max\": 4}}}\u001b[0m\n",
      "\u001b[34m[12/07/2021 12:36:46 INFO 140164129539904] #throughput_metric: host=algo-1, train throughput=188500.5143365059 records/second\u001b[0m\n",
      "\u001b[34m[12/07/2021 12:36:46 WARNING 140164129539904] wait_for_all_workers will not sync workers since the kv store is not running distributed\u001b[0m\n",
      "\u001b[34m[12/07/2021 12:36:46 INFO 140164129539904] shrinking 100 centers into 10\u001b[0m\n",
      "\u001b[34m[12/07/2021 12:36:46 INFO 140164129539904] local kmeans attempt #0. Current mean square distance 23.523048\u001b[0m\n",
      "\u001b[34m[12/07/2021 12:36:46 INFO 140164129539904] local kmeans attempt #1. Current mean square distance 24.939968\u001b[0m\n",
      "\u001b[34m[12/07/2021 12:36:46 INFO 140164129539904] local kmeans attempt #2. Current mean square distance 26.535486\u001b[0m\n",
      "\u001b[34m[12/07/2021 12:36:46 INFO 140164129539904] local kmeans attempt #3. Current mean square distance 23.815741\u001b[0m\n",
      "\u001b[34m[12/07/2021 12:36:46 INFO 140164129539904] local kmeans attempt #4. Current mean square distance 28.447292\u001b[0m\n",
      "\u001b[34m[12/07/2021 12:36:46 INFO 140164129539904] local kmeans attempt #5. Current mean square distance 24.828930\u001b[0m\n",
      "\u001b[34m[12/07/2021 12:36:46 INFO 140164129539904] local kmeans attempt #6. Current mean square distance 26.901890\u001b[0m\n",
      "\u001b[34m[12/07/2021 12:36:46 INFO 140164129539904] local kmeans attempt #7. Current mean square distance 23.195425\u001b[0m\n",
      "\u001b[34m[12/07/2021 12:36:46 INFO 140164129539904] local kmeans attempt #8. Current mean square distance 28.400885\u001b[0m\n",
      "\u001b[34m[12/07/2021 12:36:46 INFO 140164129539904] local kmeans attempt #9. Current mean square distance 25.321796\u001b[0m\n",
      "\u001b[34m[12/07/2021 12:36:46 INFO 140164129539904] finished shrinking process. Mean Square Distance = 23\u001b[0m\n",
      "\u001b[34m[12/07/2021 12:36:46 INFO 140164129539904] #quality_metric: host=algo-1, train msd <loss>=23.195425033569336\u001b[0m\n",
      "\u001b[34m[12/07/2021 12:36:46 INFO 140164129539904] compute all data-center distances: inner product took: 27.1876%, (0.027383 secs)\u001b[0m\n",
      "\u001b[34m[12/07/2021 12:36:46 INFO 140164129539904] predict compute msd took: 16.5398%, (0.016659 secs)\u001b[0m\n",
      "\u001b[34m[12/07/2021 12:36:46 INFO 140164129539904] gradient: cluster center took: 10.6477%, (0.010724 secs)\u001b[0m\n",
      "\u001b[34m[12/07/2021 12:36:46 INFO 140164129539904] gradient: cluster size  took: 7.8344%, (0.007891 secs)\u001b[0m\n",
      "\u001b[34m[12/07/2021 12:36:46 INFO 140164129539904] collect from kv store took: 7.5292%, (0.007583 secs)\u001b[0m\n",
      "\u001b[34m[12/07/2021 12:36:46 INFO 140164129539904] splitting centers key-value pair took: 7.1363%, (0.007188 secs)\u001b[0m\n",
      "\u001b[34m[12/07/2021 12:36:46 INFO 140164129539904] gradient: one_hot took: 6.9341%, (0.006984 secs)\u001b[0m\n",
      "\u001b[34m[12/07/2021 12:36:46 INFO 140164129539904] batch data loading with context took: 6.1319%, (0.006176 secs)\u001b[0m\n",
      "\u001b[34m[12/07/2021 12:36:46 INFO 140164129539904] compute all data-center distances: point norm took: 5.1917%, (0.005229 secs)\u001b[0m\n",
      "\u001b[34m[12/07/2021 12:36:46 INFO 140164129539904] update state and report convergance took: 3.9323%, (0.003961 secs)\u001b[0m\n",
      "\u001b[34m[12/07/2021 12:36:46 INFO 140164129539904] compute all data-center distances: center norm took: 0.5755%, (0.000580 secs)\u001b[0m\n",
      "\u001b[34m[12/07/2021 12:36:46 INFO 140164129539904] update set-up time took: 0.2646%, (0.000267 secs)\u001b[0m\n",
      "\u001b[34m[12/07/2021 12:36:46 INFO 140164129539904] predict minus dist took: 0.0949%, (0.000096 secs)\u001b[0m\n",
      "\u001b[34m[12/07/2021 12:36:46 INFO 140164129539904] TOTAL took: 0.10071921348571777\u001b[0m\n",
      "\u001b[34m[12/07/2021 12:36:46 INFO 140164129539904] Number of GPUs being used: 0\u001b[0m\n",
      "\u001b[34m#metrics {\"StartTime\": 1638880605.8926024, \"EndTime\": 1638880606.621512, \"Dimensions\": {\"Algorithm\": \"AWS/KMeansWebscale\", \"Host\": \"algo-1\", \"Operation\": \"training\"}, \"Metrics\": {\"initialize.time\": {\"sum\": 40.01164436340332, \"count\": 1, \"min\": 40.01164436340332, \"max\": 40.01164436340332}, \"epochs\": {\"sum\": 1.0, \"count\": 1, \"min\": 1, \"max\": 1}, \"update.time\": {\"sum\": 95.15810012817383, \"count\": 1, \"min\": 95.15810012817383, \"max\": 95.15810012817383}, \"_shrink.time\": {\"sum\": 580.0597667694092, \"count\": 1, \"min\": 580.0597667694092, \"max\": 580.0597667694092}, \"finalize.time\": {\"sum\": 581.9425582885742, \"count\": 1, \"min\": 581.9425582885742, \"max\": 581.9425582885742}, \"model.serialize.time\": {\"sum\": 1.8420219421386719, \"count\": 1, \"min\": 1.8420219421386719, \"max\": 1.8420219421386719}}}\u001b[0m\n",
      "\u001b[34m[12/07/2021 12:36:46 INFO 140164129539904] Test data is not provided.\u001b[0m\n",
      "\u001b[34m#metrics {\"StartTime\": 1638880606.6216028, \"EndTime\": 1638880606.6218903, \"Dimensions\": {\"Algorithm\": \"AWS/KMeansWebscale\", \"Host\": \"algo-1\", \"Operation\": \"training\"}, \"Metrics\": {\"setuptime\": {\"sum\": 13.917207717895508, \"count\": 1, \"min\": 13.917207717895508, \"max\": 13.917207717895508}, \"totaltime\": {\"sum\": 813.5383129119873, \"count\": 1, \"min\": 813.5383129119873, \"max\": 813.5383129119873}}}\u001b[0m\n",
      "\n",
      "2021-12-07 12:37:11 Uploading - Uploading generated training model\n",
      "2021-12-07 12:37:11 Completed - Training job completed\n",
      "Training seconds: 74\n",
      "Billable seconds: 74\n",
      "CPU times: user 817 ms, sys: 50.6 ms, total: 868 ms\n",
      "Wall time: 4min 43s\n"
     ]
    }
   ],
   "source": [
    "%%time\n",
    "kmeans.fit(kmeans.record_set(data_train), job_name=job_name) #creates 10 clusters on the 18000 lat and long records"
   ]
  },
  {
   "cell_type": "markdown",
   "id": "7b9b7aa9",
   "metadata": {},
   "source": [
    "At this point Sagemaker has created a model artifcact and placed it in our output folder in our S3 bucket. We need to do few things to see the latitude and longitude for our 10 clusters and the center point of those clusters.\n",
    "\n",
    "Here we are going to de-serialize' our model artifact. We'll open and review them in our notebook instance. We can unzip our model artifact which will contain model_algo-1. This is a serialized Apache MXNetobject.\n",
    "\n",
    "From here we can load the serialized object into a numpy.ndarray and extract the clustered centroids from the numpy.ndarray.\n",
    "\n",
    "After we extract the results into a dataframe, we can create a csv and put into an S3 bucket and visualize with Quicksight."
   ]
  },
  {
   "cell_type": "code",
   "execution_count": 14,
   "id": "6bb48a7f",
   "metadata": {},
   "outputs": [
    {
     "data": {
      "text/plain": [
       "2304"
      ]
     },
     "execution_count": 14,
     "metadata": {},
     "output_type": "execute_result"
    }
   ],
   "source": [
    "import os\n",
    "model_key = 'model-artifacts/' + job_name + '/output/model.tar.gz'\n",
    "\n",
    "boto3.resource('s3').Bucket(bucket).download_file(model_key, 'model.tar.gz')\n",
    "os.system('tar -zxvf model.tar.gz')\n",
    "os.system('unzip model_alog-1')"
   ]
  },
  {
   "cell_type": "markdown",
   "id": "598f1bc4",
   "metadata": {},
   "source": [
    "Model is now downloaded to our jupiter instance. Next we need to use the MXNet library to de-serialize our model object we just unzipped"
   ]
  },
  {
   "cell_type": "code",
   "execution_count": 15,
   "id": "36a3079e",
   "metadata": {},
   "outputs": [
    {
     "name": "stdout",
     "output_type": "stream",
     "text": [
      "Collecting mxnet\n",
      "  Downloading mxnet-1.8.0.post0-py2.py3-none-manylinux2014_x86_64.whl (46.9 MB)\n",
      "\u001b[K     |████████████████████████████████| 46.9 MB 312 kB/s  eta 0:00:01     |████████████████▍               | 24.0 MB 23.1 MB/s eta 0:00:01\n",
      "\u001b[?25hCollecting graphviz<0.9.0,>=0.8.1\n",
      "  Downloading graphviz-0.8.4-py2.py3-none-any.whl (16 kB)\n",
      "Requirement already satisfied: numpy<2.0.0,>1.16.0 in /home/ec2-user/anaconda3/envs/python3/lib/python3.6/site-packages (from mxnet) (1.19.5)\n",
      "Requirement already satisfied: requests<3,>=2.20.0 in /home/ec2-user/anaconda3/envs/python3/lib/python3.6/site-packages (from mxnet) (2.26.0)\n",
      "Requirement already satisfied: urllib3<1.27,>=1.21.1 in /home/ec2-user/anaconda3/envs/python3/lib/python3.6/site-packages (from requests<3,>=2.20.0->mxnet) (1.26.7)\n",
      "Requirement already satisfied: charset-normalizer~=2.0.0 in /home/ec2-user/anaconda3/envs/python3/lib/python3.6/site-packages (from requests<3,>=2.20.0->mxnet) (2.0.7)\n",
      "Requirement already satisfied: certifi>=2017.4.17 in /home/ec2-user/anaconda3/envs/python3/lib/python3.6/site-packages (from requests<3,>=2.20.0->mxnet) (2021.10.8)\n",
      "Requirement already satisfied: idna<4,>=2.5 in /home/ec2-user/anaconda3/envs/python3/lib/python3.6/site-packages (from requests<3,>=2.20.0->mxnet) (3.3)\n",
      "Installing collected packages: graphviz, mxnet\n",
      "Successfully installed graphviz-0.8.4 mxnet-1.8.0.post0\n",
      "\u001b[33mWARNING: You are using pip version 21.2.4; however, version 21.3.1 is available.\n",
      "You should consider upgrading via the '/home/ec2-user/anaconda3/envs/python3/bin/python -m pip install --upgrade pip' command.\u001b[0m\n"
     ]
    }
   ],
   "source": [
    "!pip install mxnet"
   ]
  },
  {
   "cell_type": "code",
   "execution_count": 16,
   "id": "5b5c6f92",
   "metadata": {},
   "outputs": [
    {
     "data": {
      "text/html": [
       "<div>\n",
       "<style scoped>\n",
       "    .dataframe tbody tr th:only-of-type {\n",
       "        vertical-align: middle;\n",
       "    }\n",
       "\n",
       "    .dataframe tbody tr th {\n",
       "        vertical-align: top;\n",
       "    }\n",
       "\n",
       "    .dataframe thead th {\n",
       "        text-align: right;\n",
       "    }\n",
       "</style>\n",
       "<table border=\"1\" class=\"dataframe\">\n",
       "  <thead>\n",
       "    <tr style=\"text-align: right;\">\n",
       "      <th></th>\n",
       "      <th>latitude</th>\n",
       "      <th>longitude</th>\n",
       "    </tr>\n",
       "  </thead>\n",
       "  <tbody>\n",
       "    <tr>\n",
       "      <th>0</th>\n",
       "      <td>48.310387</td>\n",
       "      <td>-123.021492</td>\n",
       "    </tr>\n",
       "    <tr>\n",
       "      <th>1</th>\n",
       "      <td>41.184879</td>\n",
       "      <td>-75.183205</td>\n",
       "    </tr>\n",
       "    <tr>\n",
       "      <th>2</th>\n",
       "      <td>-7.306179</td>\n",
       "      <td>122.170113</td>\n",
       "    </tr>\n",
       "    <tr>\n",
       "      <th>3</th>\n",
       "      <td>48.126362</td>\n",
       "      <td>5.071083</td>\n",
       "    </tr>\n",
       "    <tr>\n",
       "      <th>4</th>\n",
       "      <td>33.485630</td>\n",
       "      <td>-95.251297</td>\n",
       "    </tr>\n",
       "    <tr>\n",
       "      <th>5</th>\n",
       "      <td>41.148087</td>\n",
       "      <td>-87.472839</td>\n",
       "    </tr>\n",
       "    <tr>\n",
       "      <th>6</th>\n",
       "      <td>39.743664</td>\n",
       "      <td>-106.243248</td>\n",
       "    </tr>\n",
       "    <tr>\n",
       "      <th>7</th>\n",
       "      <td>30.593796</td>\n",
       "      <td>-81.402596</td>\n",
       "    </tr>\n",
       "    <tr>\n",
       "      <th>8</th>\n",
       "      <td>35.695080</td>\n",
       "      <td>-117.945465</td>\n",
       "    </tr>\n",
       "    <tr>\n",
       "      <th>9</th>\n",
       "      <td>25.124838</td>\n",
       "      <td>-148.613235</td>\n",
       "    </tr>\n",
       "  </tbody>\n",
       "</table>\n",
       "</div>"
      ],
      "text/plain": [
       "    latitude   longitude\n",
       "0  48.310387 -123.021492\n",
       "1  41.184879  -75.183205\n",
       "2  -7.306179  122.170113\n",
       "3  48.126362    5.071083\n",
       "4  33.485630  -95.251297\n",
       "5  41.148087  -87.472839\n",
       "6  39.743664 -106.243248\n",
       "7  30.593796  -81.402596\n",
       "8  35.695080 -117.945465\n",
       "9  25.124838 -148.613235"
      ]
     },
     "execution_count": 16,
     "metadata": {},
     "output_type": "execute_result"
    }
   ],
   "source": [
    "import mxnet as mx\n",
    "\n",
    "#creating an ndarray for the model we just downloaded\n",
    "Kmeans_model_parms = mx.ndarray.load('model_algo-1')\n",
    "\n",
    "#create a dataframe of the center point of our clusters\n",
    "cluster_centroid_kmeans = pd.DataFrame(Kmeans_model_parms[0].asnumpy())\n",
    "cluster_centroid_kmeans.columns = df_geo.columns\n",
    "cluster_centroid_kmeans"
   ]
  },
  {
   "cell_type": "markdown",
   "id": "01285404",
   "metadata": {},
   "source": [
    "Upload Dataframe to S3 and view on Quicksight"
   ]
  },
  {
   "cell_type": "code",
   "execution_count": 18,
   "id": "c1ee734c",
   "metadata": {},
   "outputs": [
    {
     "data": {
      "text/plain": [
       "{'ResponseMetadata': {'RequestId': '44CTGPCWVEV1E23D',\n",
       "  'HostId': 'qDxt9ljTRC9sq9cQomleq7x2sy3wN85/8Ud2wf3iEbte2fo6suiXOLAnT2QXuPxkeSTK4g018Oc=',\n",
       "  'HTTPStatusCode': 200,\n",
       "  'HTTPHeaders': {'x-amz-id-2': 'qDxt9ljTRC9sq9cQomleq7x2sy3wN85/8Ud2wf3iEbte2fo6suiXOLAnT2QXuPxkeSTK4g018Oc=',\n",
       "   'x-amz-request-id': '44CTGPCWVEV1E23D',\n",
       "   'date': 'Tue, 07 Dec 2021 14:11:14 GMT',\n",
       "   'etag': '\"f1b7adf16874109fff75513d34e4e28f\"',\n",
       "   'server': 'AmazonS3',\n",
       "   'content-length': '0'},\n",
       "  'RetryAttempts': 0},\n",
       " 'ETag': '\"f1b7adf16874109fff75513d34e4e28f\"'}"
      ]
     },
     "execution_count": 18,
     "metadata": {},
     "output_type": "execute_result"
    }
   ],
   "source": [
    "#convert to csv\n",
    "from io import  StringIO\n",
    "\n",
    "csv_buffer = StringIO()\n",
    "cluster_centroid_kmeans.to_csv(csv_buffer, index=False)\n",
    "s3_resource = boto3.resource('s3')\n",
    "s3_resource.Object(bucket, 'results/ten_locations_kmeans.csv').put(Body=csv_buffer.getvalue())"
   ]
  },
  {
   "cell_type": "markdown",
   "id": "f4281330",
   "metadata": {},
   "source": [
    "Create a QuickSight account and view it on a map. Quicksight can directly access from S3."
   ]
  },
  {
   "cell_type": "code",
   "execution_count": null,
   "id": "7dac4700",
   "metadata": {},
   "outputs": [],
   "source": []
  }
 ],
 "metadata": {
  "kernelspec": {
   "display_name": "conda_python3",
   "language": "python",
   "name": "conda_python3"
  },
  "language_info": {
   "codemirror_mode": {
    "name": "ipython",
    "version": 3
   },
   "file_extension": ".py",
   "mimetype": "text/x-python",
   "name": "python",
   "nbconvert_exporter": "python",
   "pygments_lexer": "ipython3",
   "version": "3.6.13"
  }
 },
 "nbformat": 4,
 "nbformat_minor": 5
}
